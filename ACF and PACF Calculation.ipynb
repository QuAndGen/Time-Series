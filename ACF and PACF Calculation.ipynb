{
 "cells": [
  {
   "cell_type": "code",
   "execution_count": 1,
   "metadata": {},
   "outputs": [],
   "source": [
    "import pandas                          as      pd\n",
    "import numpy                           as      np\n",
    "import matplotlib.pyplot               as      plt\n",
    "from statsmodels.tsa.stattools         import  pacf,acf\n",
    "from statsmodels.graphics.tsaplots     import  plot_pacf,plot_acf\n",
    "import statsmodels.api as sm\n",
    "import warnings\n",
    "warnings.filterwarnings('ignore')\n",
    "%matplotlib inline"
   ]
  },
  {
   "cell_type": "code",
   "execution_count": 2,
   "metadata": {},
   "outputs": [
    {
     "data": {
      "text/html": [
       "<div>\n",
       "<style scoped>\n",
       "    .dataframe tbody tr th:only-of-type {\n",
       "        vertical-align: middle;\n",
       "    }\n",
       "\n",
       "    .dataframe tbody tr th {\n",
       "        vertical-align: top;\n",
       "    }\n",
       "\n",
       "    .dataframe thead th {\n",
       "        text-align: right;\n",
       "    }\n",
       "</style>\n",
       "<table border=\"1\" class=\"dataframe\">\n",
       "  <thead>\n",
       "    <tr style=\"text-align: right;\">\n",
       "      <th></th>\n",
       "      <th>Year-Month</th>\n",
       "      <th>Pax</th>\n",
       "    </tr>\n",
       "  </thead>\n",
       "  <tbody>\n",
       "    <tr>\n",
       "      <th>0</th>\n",
       "      <td>1949-Jan</td>\n",
       "      <td>112</td>\n",
       "    </tr>\n",
       "    <tr>\n",
       "      <th>1</th>\n",
       "      <td>1949-Feb</td>\n",
       "      <td>118</td>\n",
       "    </tr>\n",
       "    <tr>\n",
       "      <th>2</th>\n",
       "      <td>1949-Mar</td>\n",
       "      <td>132</td>\n",
       "    </tr>\n",
       "    <tr>\n",
       "      <th>3</th>\n",
       "      <td>1949-Apr</td>\n",
       "      <td>129</td>\n",
       "    </tr>\n",
       "    <tr>\n",
       "      <th>4</th>\n",
       "      <td>1949-May</td>\n",
       "      <td>121</td>\n",
       "    </tr>\n",
       "  </tbody>\n",
       "</table>\n",
       "</div>"
      ],
      "text/plain": [
       "  Year-Month  Pax\n",
       "0   1949-Jan  112\n",
       "1   1949-Feb  118\n",
       "2   1949-Mar  132\n",
       "3   1949-Apr  129\n",
       "4   1949-May  121"
      ]
     },
     "execution_count": 2,
     "metadata": {},
     "output_type": "execute_result"
    }
   ],
   "source": [
    "df = pd.read_csv('AirPassenger.csv')\n",
    "df.head()"
   ]
  },
  {
   "cell_type": "code",
   "execution_count": 3,
   "metadata": {},
   "outputs": [],
   "source": [
    "lag = 50"
   ]
  },
  {
   "cell_type": "code",
   "execution_count": 4,
   "metadata": {},
   "outputs": [
    {
     "data": {
      "text/plain": [
       "array([1.        , 0.94804734, 0.87557484, 0.80668116, 0.75262542,\n",
       "       0.71376997, 0.6817336 , 0.66290439, 0.65561048, 0.67094833,\n",
       "       0.70271992, 0.74324019, 0.76039504, 0.71266087, 0.64634228,\n",
       "       0.58592342, 0.53795519, 0.49974753, 0.46873401, 0.44987066,\n",
       "       0.4416288 , 0.45722376, 0.48248203, 0.51712699, 0.53218983,\n",
       "       0.49397569, 0.43772134, 0.3876029 , 0.34802503, 0.31498388,\n",
       "       0.28849682, 0.27080187, 0.26429011, 0.27679934, 0.2985215 ,\n",
       "       0.32558712, 0.3370236 , 0.30333486, 0.25397708, 0.21065534,\n",
       "       0.17217092, 0.13840041, 0.11140324, 0.09098453, 0.08217177,\n",
       "       0.08877222, 0.10386958, 0.12393082, 0.13263456, 0.10374723,\n",
       "       0.06209805])"
      ]
     },
     "execution_count": 4,
     "metadata": {},
     "output_type": "execute_result"
    },
    {
     "data": {
      "image/png": "[encoded data removed]",
      "text/plain": [
       "<Figure size 432x288 with 1 Axes>"
      ]
     },
     "metadata": {
      "needs_background": "light"
     },
     "output_type": "display_data"
    }
   ],
   "source": [
    "acf_val = acf(df.Pax,nlags=lag)\n",
    "plot_acf(df.Pax,lags=lag)\n",
    "acf_val"
   ]
  },
  {
   "cell_type": "code",
   "execution_count": 5,
   "metadata": {},
   "outputs": [],
   "source": [
    "from scipy.stats import norm\n",
    "import numpy                           as      np\n",
    "import matplotlib.pyplot               as      plt\n",
    "\n",
    "def get_confidence_interval(acf_val,n,ci=.95):\n",
    "    ci1 = (1+ci)/2\n",
    "    z_val = norm.ppf(ci1)/np.sqrt(n)\n",
    "    arr =np.concatenate([np.array([1]), 2*acf_val[1:]**2])\n",
    "    confidence_limit = z_val * np.sqrt(np.cumsum(arr))\n",
    "    return(confidence_limit)"
   ]
  },
  {
   "cell_type": "code",
   "execution_count": 6,
   "metadata": {},
   "outputs": [],
   "source": [
    "def get_acf_pacf_plot(acf_pacf_val,lag_series,upper_limit,lower_limit):\n",
    "    plt.figure(figsize=(15,5))\n",
    "    plt.fill_between(lag_series, upper_limit,color='#EBF5FB')\n",
    "    plt.fill_between(lag_series, lower_limit,color='#EBF5FB')\n",
    "    plt.plot(lag_series,[0]*len(lag_series),color='black')\n",
    "    plt.bar(lag_series,acf_pacf_val,width=0.05,color='black')\n",
    "    plt.scatter(lag_series,acf_pacf_val,color='black')\n",
    "    plt.show()"
   ]
  },
  {
   "cell_type": "code",
   "execution_count": 7,
   "metadata": {},
   "outputs": [],
   "source": [
    "def get_acf(y,lag=20,ci=.95,isplot=True):\n",
    "    lag+=1\n",
    "    mu = np.mean(y)\n",
    "    var_s = np.var(y)\n",
    "    n=len(y)\n",
    "    acf_array = []\n",
    "    lag_series = range(lag)\n",
    "    for lag_n in lag_series:\n",
    "        total=0\n",
    "        for i in range(0,n-lag_n):\n",
    "            total=total+(y[i]-mu)*(y[i+lag_n]-mu)\n",
    "        auto_cov = total/n\n",
    "        rk=auto_cov/var_s\n",
    "        acf_array.append(rk)\n",
    "\n",
    "    acf_array = np.array(acf_array)\n",
    "    confidence_limit = get_confidence_interval(acf_array,n,ci)\n",
    "    if isplot:\n",
    "        get_acf_pacf_plot(acf_array,lag_series,confidence_limit,-1*confidence_limit)\n",
    "    return(acf_array,confidence_limit,-1*confidence_limit)"
   ]
  },
  {
   "cell_type": "code",
   "execution_count": 8,
   "metadata": {},
   "outputs": [
    {
     "data": {
      "image/png": "[encoded data removed]",
      "text/plain": [
       "<Figure size 1080x360 with 1 Axes>"
      ]
     },
     "metadata": {
      "needs_background": "light"
     },
     "output_type": "display_data"
    }
   ],
   "source": [
    "acf_manual,acf_upper_limit,acf_lower_limit = get_acf(df.Pax,lag=lag,ci=.95)"
   ]
  },
  {
   "cell_type": "code",
   "execution_count": 9,
   "metadata": {},
   "outputs": [
    {
     "data": {
      "text/plain": [
       "True"
      ]
     },
     "execution_count": 9,
     "metadata": {},
     "output_type": "execute_result"
    }
   ],
   "source": [
    "np.allclose(acf_manual,acf_val)"
   ]
  },
  {
   "cell_type": "code",
   "execution_count": 10,
   "metadata": {},
   "outputs": [
    {
     "data": {
      "text/plain": [
       "<Figure size 1080x360 with 0 Axes>"
      ]
     },
     "metadata": {},
     "output_type": "display_data"
    },
    {
     "data": {
      "image/png": "[encoded data removed]",
      "text/plain": [
       "<Figure size 432x288 with 1 Axes>"
      ]
     },
     "metadata": {
      "needs_background": "light"
     },
     "output_type": "display_data"
    }
   ],
   "source": [
    "plt.figure(figsize=(15,5))\n",
    "plot_acf(df.Pax,lags=40)\n",
    "plt.show()"
   ]
  },
  {
   "cell_type": "markdown",
   "metadata": {},
   "source": [
    "# PACF"
   ]
  },
  {
   "cell_type": "code",
   "execution_count": 11,
   "metadata": {},
   "outputs": [
    {
     "data": {
      "text/plain": [
       "array([ 1.        ,  0.95893198, -0.32983096,  0.2018249 ,  0.14500798,\n",
       "        0.25848232, -0.02690283,  0.20433019,  0.15607896,  0.56860841,\n",
       "        0.29256358,  0.8402143 ,  0.61268285, -0.66597616, -0.38463943,\n",
       "        0.0787466 , -0.02663483, -0.05805221, -0.04350748,  0.27732556,\n",
       "       -0.04046447,  0.13739883,  0.3859958 ,  0.24203808, -0.04912986,\n",
       "       -0.19599778, -0.15443575,  0.04484465,  0.18371541, -0.0906113 ,\n",
       "       -0.06202938,  0.34827092,  0.09899499, -0.08396793,  0.36328898,\n",
       "       -0.17956662,  0.15839435,  0.06376775, -0.27503705,  0.2707607 ,\n",
       "        0.32002003])"
      ]
     },
     "execution_count": 11,
     "metadata": {},
     "output_type": "execute_result"
    },
    {
     "data": {
      "image/png": "[encoded data removed]",
      "text/plain": [
       "<Figure size 432x288 with 1 Axes>"
      ]
     },
     "metadata": {
      "needs_background": "light"
     },
     "output_type": "display_data"
    }
   ],
   "source": [
    "pacf_val = pacf(df.Pax, method='ols')\n",
    "plot_pacf(df.Pax,lags=40,method='ols')\n",
    "pacf_val"
   ]
  },
  {
   "cell_type": "code",
   "execution_count": 12,
   "metadata": {},
   "outputs": [],
   "source": [
    "def get_pacf(series,lag,ci,isplot=True):\n",
    "    n=len(series)\n",
    "    lag+=1\n",
    "    df_lag = pd.DataFrame()\n",
    "    for i in range(1,lag+1):\n",
    "        l = series.shift(periods=i)\n",
    "        df_lag = pd.concat([df_lag,l],axis=1)\n",
    "\n",
    "    df_lag.columns = ['lag_'+str(i) for i in range(1,lag+1)]\n",
    "    \n",
    "    features = df_lag.values\n",
    "    labels = series.values\n",
    "    pacf_manual = [1.]\n",
    "    xlags = sm.add_constant(features)\n",
    "    for k in range(1, lag):\n",
    "        model = sm.OLS(labels[k:], xlags[k:, :k+1]).fit()\n",
    "        pacf_manual.append(model.params[-1])\n",
    "    pacf_manual = np.array(pacf_manual)\n",
    "    confidence_limit = get_confidence_interval(pacf_manual,n,ci)\n",
    "    \n",
    "    if isplot:\n",
    "        get_acf_pacf_plot(pacf_manual,range(lag),confidence_limit,-1*confidence_limit)\n",
    "    return(pacf_manual,confidence_limit,-1*confidence_limit)"
   ]
  },
  {
   "cell_type": "code",
   "execution_count": 13,
   "metadata": {},
   "outputs": [
    {
     "data": {
      "image/png": "[encoded data removed]",
      "text/plain": [
       "<Figure size 1080x360 with 1 Axes>"
      ]
     },
     "metadata": {
      "needs_background": "light"
     },
     "output_type": "display_data"
    }
   ],
   "source": [
    "pacf_array,pacf_upper_limit,pacf_lower_limit = get_pacf(series=df.Pax,lag=40,ci=.95,isplot=True)"
   ]
  },
  {
   "cell_type": "code",
   "execution_count": null,
   "metadata": {},
   "outputs": [],
   "source": []
  }
 ],
 "metadata": {
  "kernelspec": {
   "display_name": "Python 3",
   "language": "python",
   "name": "python3"
  },
  "language_info": {
   "codemirror_mode": {
    "name": "ipython",
    "version": 3
   },
   "file_extension": ".py",
   "mimetype": "text/x-python",
   "name": "python",
   "nbconvert_exporter": "python",
   "pygments_lexer": "ipython3",
   "version": "3.8.3"
  }
 },
 "nbformat": 4,
 "nbformat_minor": 4
}
